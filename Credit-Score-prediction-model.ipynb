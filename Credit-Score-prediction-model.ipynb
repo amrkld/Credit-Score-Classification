{
 "cells": [
  {
   "cell_type": "code",
   "execution_count": 7,
   "metadata": {},
   "outputs": [
    {
     "name": "stdout",
     "output_type": "stream",
     "text": [
      "     ID  Customer_ID  Month           Name   Age          SSN Occupation  \\\n",
      "0  5634         3392      1  Aaron Maashoh  23.0  821000265.0  Scientist   \n",
      "1  5635         3392      2  Aaron Maashoh  23.0  821000265.0  Scientist   \n",
      "2  5636         3392      3  Aaron Maashoh  23.0  821000265.0  Scientist   \n",
      "3  5637         3392      4  Aaron Maashoh  23.0  821000265.0  Scientist   \n",
      "4  5638         3392      5  Aaron Maashoh  23.0  821000265.0  Scientist   \n",
      "\n",
      "   Annual_Income  Monthly_Inhand_Salary  Num_Bank_Accounts  ...  Credit_Mix  \\\n",
      "0       19114.12            1824.843333                3.0  ...        Good   \n",
      "1       19114.12            1824.843333                3.0  ...        Good   \n",
      "2       19114.12            1824.843333                3.0  ...        Good   \n",
      "3       19114.12            1824.843333                3.0  ...        Good   \n",
      "4       19114.12            1824.843333                3.0  ...        Good   \n",
      "\n",
      "   Outstanding_Debt  Credit_Utilization_Ratio Credit_History_Age  \\\n",
      "0            809.98                 26.822620              265.0   \n",
      "1            809.98                 31.944960              266.0   \n",
      "2            809.98                 28.609352              267.0   \n",
      "3            809.98                 31.377862              268.0   \n",
      "4            809.98                 24.797347              269.0   \n",
      "\n",
      "   Payment_of_Min_Amount  Total_EMI_per_month  Amount_invested_monthly  \\\n",
      "0                     No            49.574949                 21.46538   \n",
      "1                     No            49.574949                 21.46538   \n",
      "2                     No            49.574949                 21.46538   \n",
      "3                     No            49.574949                 21.46538   \n",
      "4                     No            49.574949                 21.46538   \n",
      "\n",
      "                  Payment_Behaviour Monthly_Balance  Credit_Score  \n",
      "0   High_spent_Small_value_payments      312.494089          Good  \n",
      "1    Low_spent_Large_value_payments      284.629162          Good  \n",
      "2   Low_spent_Medium_value_payments      331.209863          Good  \n",
      "3    Low_spent_Small_value_payments      223.451310          Good  \n",
      "4  High_spent_Medium_value_payments      341.489231          Good  \n",
      "\n",
      "[5 rows x 28 columns]\n"
     ]
    }
   ],
   "source": [
    "import pandas as pd\n",
    "\n",
    "# Path to your dataset\n",
    "file_path = 'Data set/Credit Score Data/train.csv'\n",
    "\n",
    "# Read the dataset\n",
    "df = pd.read_csv(file_path)\n",
    "\n",
    "# Print the first few rows of the dataset\n",
    "print(df.head())\n",
    "\n"
   ]
  },
  {
   "cell_type": "code",
   "execution_count": null,
   "metadata": {},
   "outputs": [],
   "source": []
  }
 ],
 "metadata": {
  "kernelspec": {
   "display_name": "Python 3",
   "language": "python",
   "name": "python3"
  },
  "language_info": {
   "codemirror_mode": {
    "name": "ipython",
    "version": 3
   },
   "file_extension": ".py",
   "mimetype": "text/x-python",
   "name": "python",
   "nbconvert_exporter": "python",
   "pygments_lexer": "ipython3",
   "version": "3.12.0"
  }
 },
 "nbformat": 4,
 "nbformat_minor": 2
}
